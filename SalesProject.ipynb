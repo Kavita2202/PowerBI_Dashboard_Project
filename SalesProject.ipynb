{
 "cells": [
  {
   "cell_type": "code",
   "execution_count": 9,
   "id": "2856400e",
   "metadata": {},
   "outputs": [
    {
     "name": "stdout",
     "output_type": "stream",
     "text": [
      "<class 'pandas.core.frame.DataFrame'>\n",
      "Int64Index: 6686 entries, 0 to 9993\n",
      "Data columns (total 21 columns):\n",
      " #   Column         Non-Null Count  Dtype         \n",
      "---  ------         --------------  -----         \n",
      " 0   Row ID         6686 non-null   int64         \n",
      " 1   Order ID       6686 non-null   object        \n",
      " 2   Order Date     6686 non-null   datetime64[ns]\n",
      " 3   Ship Date      6686 non-null   datetime64[ns]\n",
      " 4   Ship Mode      6686 non-null   object        \n",
      " 5   Customer ID    6686 non-null   object        \n",
      " 6   Customer Name  6686 non-null   object        \n",
      " 7   Segment        6686 non-null   object        \n",
      " 8   Country        6686 non-null   object        \n",
      " 9   City           6686 non-null   object        \n",
      " 10  State          6686 non-null   object        \n",
      " 11  Postal Code    6686 non-null   int64         \n",
      " 12  Region         6686 non-null   object        \n",
      " 13  Product ID     6686 non-null   object        \n",
      " 14  Category       6686 non-null   object        \n",
      " 15  Sub-Category   6686 non-null   object        \n",
      " 16  Product Name   6686 non-null   object        \n",
      " 17  Sales          6686 non-null   float64       \n",
      " 18  Quantity       6686 non-null   int64         \n",
      " 19  Discount       6686 non-null   float64       \n",
      " 20  Profit         6686 non-null   float64       \n",
      "dtypes: datetime64[ns](2), float64(3), int64(3), object(13)\n",
      "memory usage: 1.1+ MB\n",
      "None\n"
     ]
    }
   ],
   "source": [
    "import pandas as pd\n",
    "import datetime\n",
    "\n",
    "df = pd.read_csv(\"C:\\\\Users\\\\kavit\\\\Downloads\\\\SalesProject.csv\", encoding = 'latin-1')\n",
    "#print(df.head(10))\n",
    "\n",
    "#check if there are any empty cells/ cells with no values\n",
    "#print(df.isnull().sum())\n",
    "\n",
    "#remove duplicates\n",
    "df= df.drop_duplicates()\n",
    "#print(df.info())\n",
    "#df = df.drop_duplicates(subset = ['Order ID']) #it will remove duplicates from orderid column\n",
    "\n",
    "#change datatype of a column\n",
    "df['Order Date'] = pd.to_datetime(df['Order Date'])\n",
    "df['Ship Date'] = pd.to_datetime(df['Ship Date'])\n",
    "#print(df.info())\n",
    "\n",
    "#handle outliers - values which are too small or too large\n",
    "#apply filter to values\n",
    "df = df[(df['Sales']>25) & (df['Sales']<100000)]\n",
    "#add new columns to file\n",
    "#df['Order Year'] = df['Order Date'].datetime.datetime.year()\n",
    "df.to_csv('C:\\\\Users\\\\kavit\\\\OneDrive\\\\Desktop\\\\Power BI\\\\SalesModified.csv', index = False)\n",
    "print(df.info())"
   ]
  },
  {
   "cell_type": "code",
   "execution_count": null,
   "id": "c9815a44",
   "metadata": {},
   "outputs": [],
   "source": []
  }
 ],
 "metadata": {
  "kernelspec": {
   "display_name": "Python 3 (ipykernel)",
   "language": "python",
   "name": "python3"
  },
  "language_info": {
   "codemirror_mode": {
    "name": "ipython",
    "version": 3
   },
   "file_extension": ".py",
   "mimetype": "text/x-python",
   "name": "python",
   "nbconvert_exporter": "python",
   "pygments_lexer": "ipython3",
   "version": "3.9.7"
  }
 },
 "nbformat": 4,
 "nbformat_minor": 5
}
